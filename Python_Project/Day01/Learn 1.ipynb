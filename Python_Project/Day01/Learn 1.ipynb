{
 "cells": [
  {
   "cell_type": "markdown",
   "id": "89322d7b",
   "metadata": {},
   "source": [
    "# Learn 1"
   ]
  },
  {
   "cell_type": "code",
   "execution_count": 1,
   "id": "7139b7be",
   "metadata": {},
   "outputs": [
    {
     "name": "stdout",
     "output_type": "stream",
     "text": [
      "Hellow World\n"
     ]
    }
   ],
   "source": [
    "print('Hellow World')"
   ]
  },
  {
   "cell_type": "code",
   "execution_count": 2,
   "id": "eae417a6",
   "metadata": {},
   "outputs": [],
   "source": [
    "x=1"
   ]
  },
  {
   "cell_type": "code",
   "execution_count": 3,
   "id": "880b167f",
   "metadata": {},
   "outputs": [],
   "source": [
    "y=2"
   ]
  },
  {
   "cell_type": "code",
   "execution_count": 4,
   "id": "4a7b72a3",
   "metadata": {},
   "outputs": [
    {
     "data": {
      "text/plain": [
       "3"
      ]
     },
     "execution_count": 4,
     "metadata": {},
     "output_type": "execute_result"
    }
   ],
   "source": [
    "x+y"
   ]
  },
  {
   "cell_type": "markdown",
   "id": "57514208",
   "metadata": {},
   "source": [
    "# test1"
   ]
  },
  {
   "cell_type": "markdown",
   "id": "fa82ee84",
   "metadata": {},
   "source": [
    "## test2"
   ]
  },
  {
   "cell_type": "markdown",
   "id": "d7f816f2",
   "metadata": {},
   "source": [
    "### test3"
   ]
  },
  {
   "cell_type": "code",
   "execution_count": null,
   "id": "c19afe2b",
   "metadata": {},
   "outputs": [],
   "source": []
  }
 ],
 "metadata": {
  "kernelspec": {
   "display_name": "Python 3 (ipykernel)",
   "language": "python",
   "name": "python3"
  },
  "language_info": {
   "codemirror_mode": {
    "name": "ipython",
    "version": 3
   },
   "file_extension": ".py",
   "mimetype": "text/x-python",
   "name": "python",
   "nbconvert_exporter": "python",
   "pygments_lexer": "ipython3",
   "version": "3.10.0"
  }
 },
 "nbformat": 4,
 "nbformat_minor": 5
}
